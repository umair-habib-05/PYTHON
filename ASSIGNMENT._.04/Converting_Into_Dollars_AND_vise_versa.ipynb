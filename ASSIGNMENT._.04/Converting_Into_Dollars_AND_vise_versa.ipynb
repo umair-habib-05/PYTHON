{
 "cells": [
  {
   "cell_type": "code",
   "execution_count": null,
   "id": "676a4982-ca28-400b-a3e4-c9eda055ab75",
   "metadata": {},
   "outputs": [],
   "source": [
    "print(\"DEVELOPED_BY:\")\n",
    "print(\"\\t     Muhammad Umair Habib\")\n",
    "print(\" \")\n",
    "print(\" \")\n",
    "print('Problem: Convert dollar into Pakistani Rupees')\n",
    "print(\" \")\n",
    "print(\" \")\n",
    "\n",
    "rate_DLR = float(input(\"Enter your Dollar rate in Pak Rupees, one dollar = Rs. \"))\n",
    "rate_PR = float(input(\"Enter your Pak_Rupees rate in Dollars, One Pak Rs. = $\"))\n",
    "\n",
    "print(\"\\t\\tA: Converting Dollars into Pak_rupees\")\n",
    "print(\"\\t\\tB: Converting Pak Rupees into Dollars\")\n",
    "select = input(\"Select A or B\")\n",
    "if select == 'A':\n",
    "    Amount_In_Pak_Rupees = rate_DLR * rate_PR\n",
    "    print(\"Your Dollars in Pakistani Rupees is: \",Amount_In_Pak_Rupees)\n",
    "else:\n",
    "    Amount_In_Dollars = rate_PR/rate_DLR\n",
    "    print(\"Your Pakistani Rupees in Dollars is: \", Amount_In_Dollars)"
   ]
  }
 ],
 "metadata": {
  "kernelspec": {
   "display_name": "Python 3 (ipykernel)",
   "language": "python",
   "name": "python3"
  },
  "language_info": {
   "codemirror_mode": {
    "name": "ipython",
    "version": 3
   },
   "file_extension": ".py",
   "mimetype": "text/x-python",
   "name": "python",
   "nbconvert_exporter": "python",
   "pygments_lexer": "ipython3",
   "version": "3.10.12"
  }
 },
 "nbformat": 4,
 "nbformat_minor": 5
}
