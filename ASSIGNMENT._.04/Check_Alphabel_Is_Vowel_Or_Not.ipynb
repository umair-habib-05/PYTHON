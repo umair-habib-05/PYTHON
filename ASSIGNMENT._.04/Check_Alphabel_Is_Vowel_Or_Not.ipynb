{
 "cells": [
  {
   "cell_type": "code",
   "execution_count": null,
   "id": "3aa49818-4fe9-4046-84d1-047b1265c9dd",
   "metadata": {},
   "outputs": [],
   "source": []
  },
  {
   "cell_type": "code",
   "execution_count": null,
   "id": "d0e38330-5a06-4305-aab6-579ce401acd2",
   "metadata": {},
   "outputs": [],
   "source": [
    "print(\"DEVELOPED_BY:\")\n",
    "print(\"\\t     Muhammad Umair Habib\")\n",
    "print(\" \")\n",
    "print(\" \")\n",
    "print('Problem: VOWEL OR NOT')\n",
    "print(\" \")\n",
    "print(\" \")\n",
    "\n",
    "tuple_of_vowel = ('a', 'e' ,'i' ,'o' ,'u', 'A', 'E', 'I', 'O', 'U')\n",
    "user_input = input(\"Enter your alphabet\")\n",
    "print(\"User Entered Alphabet is: \", user_input)\n",
    "if user_input in tuple_of_vowel:\n",
    "    print(\"It's a vowel\")\n",
    "else:\n",
    "    print(\"It's Not a vowel\")"
   ]
  }
 ],
 "metadata": {
  "kernelspec": {
   "display_name": "Python 3 (ipykernel)",
   "language": "python",
   "name": "python3"
  },
  "language_info": {
   "codemirror_mode": {
    "name": "ipython",
    "version": 3
   },
   "file_extension": ".py",
   "mimetype": "text/x-python",
   "name": "python",
   "nbconvert_exporter": "python",
   "pygments_lexer": "ipython3",
   "version": "3.10.12"
  }
 },
 "nbformat": 4,
 "nbformat_minor": 5
}
