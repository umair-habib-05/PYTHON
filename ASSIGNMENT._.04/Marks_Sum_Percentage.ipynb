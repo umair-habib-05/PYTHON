{
 "cells": [
  {
   "cell_type": "code",
   "execution_count": null,
   "id": "6765ead7-209b-4135-a4aa-6aae7ddc02ad",
   "metadata": {},
   "outputs": [],
   "source": [
    "print(\"DEVELOPED_BY:\")\n",
    "print(\"\\t     Muhammad Umair Habib\")\n",
    "print(\" \")\n",
    "print(\" \")\n",
    "print(\"Problem: Subject wise marks and the system display total marks & percentage also percentage subject wise.\")\n",
    "print(\" \")\n",
    "print(\" \")\n",
    "\n",
    "print(\"Please Enter your marks \")\n",
    "\n",
    "urdu_t = int(input(\"Total Marks in Urdu: \"))\n",
    "urdu_ob = int(input(\"Obtained Marks in Urd: \"))\n",
    "pct_urdu = float((urdu_ob/urdu_t)*100)\n",
    "print(\"Percentage in Urdu =  \", pct_urdu)\n",
    "\n",
    "eng_t = int(input(\"Total Marks in English: \"))\n",
    "eng_ob = int(input(\"Obtained Marks in English: \"))\n",
    "pct_eng = float((eng_ob/eng_t)*100)\n",
    "print(\"Percentage in English =  \", pct_eng)\n",
    "\n",
    "maths_t = int(input(\"Total Marks in Mathematics: \"))\n",
    "maths_ob = int(input(\"Obtained Marks in Mathematics: \"))\n",
    "pct_maths = float((maths_ob/maths_t)*100)\n",
    "print(\"Percentage in Maths =  \", pct_maths)\n",
    "\n",
    "comp_t = int(input(\"Total Marks in Computer subject: \"))\n",
    "comp_ob = int(input(\"Obtained Marks in Computer subject: \"))\n",
    "pct_comp = float((comp_ob/comp_t)*100)\n",
    "print(\"Percentage in Computer =  \", pct_comp)\n",
    "\n",
    "total_marks = urdu_t + eng_t + maths_t + comp_t\n",
    "print(\"Total marks: \", total_marks)\n",
    "\n",
    "total_ob = urdu_ob + eng_ob + maths_ob + comp_ob\n",
    "print(\"Total obtained: \", total_ob)\n",
    "\n",
    "overall_pct = float((total_ob/total_marks)*100)\n",
    "print(\"Overall percentage: \", overall_pct)"
   ]
  }
 ],
 "metadata": {
  "kernelspec": {
   "display_name": "Python 3 (ipykernel)",
   "language": "python",
   "name": "python3"
  },
  "language_info": {
   "codemirror_mode": {
    "name": "ipython",
    "version": 3
   },
   "file_extension": ".py",
   "mimetype": "text/x-python",
   "name": "python",
   "nbconvert_exporter": "python",
   "pygments_lexer": "ipython3",
   "version": "3.10.12"
  }
 },
 "nbformat": 4,
 "nbformat_minor": 5
}
