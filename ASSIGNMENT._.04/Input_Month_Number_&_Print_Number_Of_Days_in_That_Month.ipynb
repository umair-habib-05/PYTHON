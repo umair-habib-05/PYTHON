{
 "cells": [
  {
   "cell_type": "code",
   "execution_count": null,
   "id": "4da0eef8-41d0-447d-97cf-ca480d96a246",
   "metadata": {},
   "outputs": [],
   "source": [
    "print(\"DEVELOPED_BY:\")\n",
    "print(\"\\t     Muhammad Umair Habib\")\n",
    "print(\" \")\n",
    "print(\" \")\n",
    "print(\"Problem: Input Month Number, Printing Number of days in that month.\")\n",
    "print(\" \")\n",
    "print(\" \")\n",
    "\n",
    "days_in_month ={1:31, 2:28, 3:31, 4:30, 5:31, 6:30, 7:31, 8:31, 9:30, 10:31, 11:30, 12:31}\n",
    "user_input = int(input(\"Input Month Number Between 1-12\"))\n",
    "print(\"Your entered month: \", user_input)\n",
    "if user_input in days_in_month:\n",
    "    print(\"Number of days in the respected month is: \", days_in_month[user_input])\n",
    "else:\n",
    "    print(\"ERROR !!!\")"
   ]
  }
 ],
 "metadata": {
  "kernelspec": {
   "display_name": "Python 3 (ipykernel)",
   "language": "python",
   "name": "python3"
  },
  "language_info": {
   "codemirror_mode": {
    "name": "ipython",
    "version": 3
   },
   "file_extension": ".py",
   "mimetype": "text/x-python",
   "name": "python",
   "nbconvert_exporter": "python",
   "pygments_lexer": "ipython3",
   "version": "3.10.12"
  }
 },
 "nbformat": 4,
 "nbformat_minor": 5
}
