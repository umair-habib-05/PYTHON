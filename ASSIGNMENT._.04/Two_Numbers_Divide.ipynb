{
 "cells": [
  {
   "cell_type": "code",
   "execution_count": null,
   "id": "b6511ba7-c7d3-43c4-9930-2f6247622e45",
   "metadata": {},
   "outputs": [],
   "source": [
    "print(\"DEVELOPED_BY:\")\n",
    "print(\"\\t     Muhammad Umair Habib\")\n",
    "print(\" \")\n",
    "print(\" \")\n",
    "print('Problem: Take two number from user and divide them and display without floating point..')\n",
    "print(\" \")\n",
    "print(\" \")\n",
    "\n",
    "num_1 = float(input(\"Enter your first number: \"))\n",
    "num_2 = float(input(\"Enter your second number: \"))\n",
    "divide_01 = int(num_1/num_2)\n",
    "print(\"When First Number Divided by Second Number, the answer is: \", divide_01)\n",
    "divide_02 = int(num_2/num_1)\n",
    "print(\"When Second Number Divided by First Number, the answer is: \", divide_02)"
   ]
  }
 ],
 "metadata": {
  "kernelspec": {
   "display_name": "Python 3 (ipykernel)",
   "language": "python",
   "name": "python3"
  },
  "language_info": {
   "codemirror_mode": {
    "name": "ipython",
    "version": 3
   },
   "file_extension": ".py",
   "mimetype": "text/x-python",
   "name": "python",
   "nbconvert_exporter": "python",
   "pygments_lexer": "ipython3",
   "version": "3.10.12"
  }
 },
 "nbformat": 4,
 "nbformat_minor": 5
}
