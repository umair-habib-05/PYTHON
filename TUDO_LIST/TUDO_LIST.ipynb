{
 "cells": [
  {
   "cell_type": "code",
   "execution_count": null,
   "id": "5c9f6e71-fadc-4ee7-aa21-1bbcb78d3e8c",
   "metadata": {},
   "outputs": [],
   "source": [
    "print(\"DEVELOPED_BY:\")\n",
    "print(\"\\t     Muhammad Umair Habib\")\n",
    "print(\" \")\n",
    "print(\" \")\n",
    "print('Problem: Same some tasks as a reminder and after performing, update your file.')\n",
    "print(\" \")\n",
    "print(\" \")\n",
    "\n",
    "def getting_task():\n",
    "    tasks = []\n",
    "    while True:\n",
    "        user_entry = input('Enter Your Tasks OR write \"done\" to finish: ')\n",
    "        if user_entry == 'done':\n",
    "            break\n",
    "        else:\n",
    "            tasks.append(user_entry)\n",
    "    with open('task.txt', 'w') as f:\n",
    "        f.write(str(tasks))\n",
    "        print(\"Tasks have been saved in task.txt\")\n",
    "\n",
    "\n",
    "getting_task()"
   ]
  },
  {
   "cell_type": "code",
   "execution_count": null,
   "id": "42ad383e-4324-4630-a819-39467533ff81",
   "metadata": {},
   "outputs": [],
   "source": [
    "def show_task():\n",
    "    with open('task.txt', 'r') as r:\n",
    "        read_file = r.read()\n",
    "        print(read_file)\n",
    "\n",
    "show_task()"
   ]
  },
  {
   "cell_type": "code",
   "execution_count": null,
   "id": "cd97cb1d-871b-4b3b-8bdf-d5823fbbd7a6",
   "metadata": {},
   "outputs": [],
   "source": [
    "def rem_task():\n",
    "    with open('task.txt', 'r') as read:\n",
    "        read_my_file = read.read()\n",
    "        t = eval(read_my_file)\n",
    "        print(\"Remember !!! (Indexed Number always starts from 0)\")\n",
    "        user_input = int(input(\"Enter the index number: \"))\n",
    "        del t[user_input]\n",
    "        with open('task.txt','w') as f:\n",
    "            f.write(str(t))\n",
    "rem_task()"
   ]
  }
 ],
 "metadata": {
  "kernelspec": {
   "display_name": "Python 3 (ipykernel)",
   "language": "python",
   "name": "python3"
  },
  "language_info": {
   "codemirror_mode": {
    "name": "ipython",
    "version": 3
   },
   "file_extension": ".py",
   "mimetype": "text/x-python",
   "name": "python",
   "nbconvert_exporter": "python",
   "pygments_lexer": "ipython3",
   "version": "3.10.12"
  }
 },
 "nbformat": 4,
 "nbformat_minor": 5
}
