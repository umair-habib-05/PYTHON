{
 "cells": [
  {
   "cell_type": "markdown",
   "id": "bc611716-6df8-493e-8d75-dc3aa41fe373",
   "metadata": {},
   "source": [
    "TASK: 1"
   ]
  },
  {
   "cell_type": "code",
   "execution_count": null,
   "id": "23e20771-5fb0-448b-859b-da1c55cb8787",
   "metadata": {},
   "outputs": [],
   "source": [
    "print(\"DEVELOPED_BY:\")\n",
    "print(\"\\t     Muhammad Umair Habib\")\n",
    "print(\" \")\n",
    "print(\" \")\n",
    "print('Problem: Drawing-the-diagram')\n",
    "print(\" \")\n",
    "print(\" \")\n",
    "            #*************************\n",
    "            #*                       *\n",
    "            #*                       *\n",
    "            #*                       *\n",
    "            #*                       *\n",
    "            #*************************\n",
    "\n",
    "for i in range(25):\n",
    "    print(\"*\", end='')\n",
    "print(\"\\n* \\t\\t\\t* \")\n",
    "print(\"\\n* \\t\\t\\t*\")\n",
    "print(\"\\n* \\t\\t\\t*\")\n",
    "print(\"\\n* \\t\\t\\t*\")\n",
    "for x in range(25):\n",
    "    print(\"*\", end='')"
   ]
  },
  {
   "cell_type": "code",
   "execution_count": null,
   "id": "20771769-ee27-49da-8ae6-2b8e1ff842bc",
   "metadata": {},
   "outputs": [],
   "source": [
    "print(\"*************************\\n*\\t\\t\\t*\\n*\\t\\t\\t*\\n*\\t\\t\\t*\\n*\\t\\t\\t*\\n*************************\")"
   ]
  },
  {
   "cell_type": "markdown",
   "id": "137c6a0b-0103-4dc3-9ca6-8bd64c32309e",
   "metadata": {},
   "source": [
    "   "
   ]
  },
  {
   "cell_type": "markdown",
   "id": "eca0c710-57bf-4f0d-8fc2-1cf37a3e0a61",
   "metadata": {},
   "source": [
    "TASK: 2"
   ]
  },
  {
   "cell_type": "code",
   "execution_count": null,
   "id": "8ac48fe9-0900-4315-83db-0f134f8629c7",
   "metadata": {},
   "outputs": [],
   "source": [
    "print(\"DEVELOPED_BY:\")\n",
    "print(\"\\t     Muhammad Umair Habib\")\n",
    "print(\" \")\n",
    "print(\" \")\n",
    "print('Problem: Drawing-the-diagram')\n",
    "print(\" \")\n",
    "print(\" \")\n",
    "            #*************************\n",
    "            #*           *           *\n",
    "            #*           *           *\n",
    "            #*************************\n",
    "            #*           *           * \n",
    "            #*           *           *\n",
    "            #*************************\n",
    "\n",
    "print('\\t\\t\\t\"\"\"')\n",
    "for x in range(25):\n",
    "    print(\"*\", end='')\n",
    "print(\"\\n*\\t    *\\t        *\")\n",
    "print(\"\\n*\\t    *\\t        *\")\n",
    "for y in range(25):\n",
    "    print(\"*\", end='')\n",
    "print(\"\\n*\\t    *\\t        *\")\n",
    "print(\"\\n*\\t    *\\t        *\")\n",
    "for y in range(25):\n",
    "    print(\"*\", end='')"
   ]
  },
  {
   "cell_type": "code",
   "execution_count": null,
   "id": "4b2b29de-2ef0-486d-a155-c4521f880119",
   "metadata": {},
   "outputs": [],
   "source": [
    "print(\"*************************\\n*\\t    *\\t        *\\n\\n*\\t    *\\t        *\\n*************************\\n*\\t    *\\t        *\\n\\n*\\t    *\\t        *\\n*************************\")"
   ]
  }
 ],
 "metadata": {
  "kernelspec": {
   "display_name": "Python 3 (ipykernel)",
   "language": "python",
   "name": "python3"
  },
  "language_info": {
   "codemirror_mode": {
    "name": "ipython",
    "version": 3
   },
   "file_extension": ".py",
   "mimetype": "text/x-python",
   "name": "python",
   "nbconvert_exporter": "python",
   "pygments_lexer": "ipython3",
   "version": "3.10.12"
  }
 },
 "nbformat": 4,
 "nbformat_minor": 5
}
