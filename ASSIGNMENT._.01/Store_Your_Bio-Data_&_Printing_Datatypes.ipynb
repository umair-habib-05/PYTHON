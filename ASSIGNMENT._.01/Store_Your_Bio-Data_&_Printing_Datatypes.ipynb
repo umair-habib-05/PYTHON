{
 "cells": [
  {
   "cell_type": "markdown",
   "id": "4a79c761-fb59-426c-a9bc-f0dbac3e0d29",
   "metadata": {},
   "source": [
    "TASK 1:"
   ]
  },
  {
   "cell_type": "code",
   "execution_count": null,
   "id": "73594ddc-2471-4869-aef8-df4a764bedad",
   "metadata": {},
   "outputs": [],
   "source": [
    "print(\"DEVELOPED_BY:\")\n",
    "print(\"\\t     Muhammad Umair Habib\")\n",
    "print(\" \")\n",
    "print(\" \")\n",
    "print('Problem: Entering the Bio-Data.')\n",
    "print(\" \")\n",
    "print(\" \")\n",
    "\n",
    "name = input(\"Enter your name \")\n",
    "roll_no = input(\"Enter your Roll Number \")\n",
    "age = int(input(\"Enter your age \"))\n",
    "dob = input(\"Enter your date of birth \")\n",
    "gender = input(\"Enter your gender \")"
   ]
  },
  {
   "cell_type": "code",
   "execution_count": null,
   "id": "408ad8ba-3779-48ed-a35c-bdd0f60f035b",
   "metadata": {},
   "outputs": [],
   "source": [
    "print(\" Name: \", name,\"\\n Roll Number:\", roll_no, \"\\n Age: \", age, \"\\n Date of Birth: \", dob, \"\\n Gender: \", gender)"
   ]
  },
  {
   "cell_type": "markdown",
   "id": "33947486-e906-4acd-a468-5639cde6174e",
   "metadata": {},
   "source": [
    "  "
   ]
  },
  {
   "cell_type": "markdown",
   "id": "4ff89ce1-8edf-4358-9ea7-e68b648bca78",
   "metadata": {},
   "source": [
    "TASK 2:"
   ]
  },
  {
   "cell_type": "code",
   "execution_count": null,
   "id": "e2b4f1af-7b73-43c5-a917-f29c93b77c0b",
   "metadata": {},
   "outputs": [],
   "source": [
    "print(\"DEVELOPED_BY:\")\n",
    "print(\"\\t     Muhammad Umair Habib\")\n",
    "print(\" \")\n",
    "print(\" \")\n",
    "print('Problem: Finding the Data-Types.')\n",
    "print(\" \")\n",
    "print(\" \")\n",
    "\n",
    "print(type(name))\n",
    "print(type(roll_no))\n",
    "print(type(age))\n",
    "print(type(dob))\n",
    "print(type(gender))"
   ]
  }
 ],
 "metadata": {
  "kernelspec": {
   "display_name": "Python 3 (ipykernel)",
   "language": "python",
   "name": "python3"
  },
  "language_info": {
   "codemirror_mode": {
    "name": "ipython",
    "version": 3
   },
   "file_extension": ".py",
   "mimetype": "text/x-python",
   "name": "python",
   "nbconvert_exporter": "python",
   "pygments_lexer": "ipython3",
   "version": "3.10.12"
  }
 },
 "nbformat": 4,
 "nbformat_minor": 5
}
