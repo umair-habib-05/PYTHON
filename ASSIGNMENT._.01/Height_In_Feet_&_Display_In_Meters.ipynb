{
 "cells": [
  {
   "cell_type": "code",
   "execution_count": null,
   "id": "784a3063-2536-4b6c-8560-4331bf6a9ba5",
   "metadata": {},
   "outputs": [],
   "source": [
    "print(\"DEVELOPED_BY:\")\n",
    "print(\"\\t     Muhammad Umair Habib\")\n",
    "print(\" \")\n",
    "print(\" \")\n",
    "print('Problem: Converting Feet into Height')\n",
    "print(\" \")\n",
    "print(\" \")\n",
    "\n",
    "height_feet = float(input(\"Enter your height in feet\"))\n",
    "print(\"Your Height in feets: \", height_feet)\n",
    "height_in_meters = 0.38 * height_feet\n",
    "print(\"So Your Height in Meters will be: \", height_in_meters)"
   ]
  }
 ],
 "metadata": {
  "kernelspec": {
   "display_name": "Python 3 (ipykernel)",
   "language": "python",
   "name": "python3"
  },
  "language_info": {
   "codemirror_mode": {
    "name": "ipython",
    "version": 3
   },
   "file_extension": ".py",
   "mimetype": "text/x-python",
   "name": "python",
   "nbconvert_exporter": "python",
   "pygments_lexer": "ipython3",
   "version": "3.10.12"
  }
 },
 "nbformat": 4,
 "nbformat_minor": 5
}
