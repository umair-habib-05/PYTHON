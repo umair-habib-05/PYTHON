{
 "cells": [
  {
   "cell_type": "code",
   "execution_count": null,
   "id": "9d8f870e-273e-4fbc-bcb0-0fc9630dd19c",
   "metadata": {},
   "outputs": [],
   "source": [
    "print(\"DEVELOPED_BY:\")\n",
    "print(\"\\t     Muhammad Umair Habib\")\n",
    "print(\" \")\n",
    "print(\" \")\n",
    "print('Problem: First Ten Even and Odd number using while loop.')\n",
    "print(\" \")\n",
    "print(\" \")\n",
    "\n",
    "count = 0\n",
    "print(\"Distinguishing First Ten Odd and Even numbers: \")\n",
    "while count < 20:\n",
    "    count = count+1\n",
    "    print(count)\n",
    "    if count % 2 == 0:\n",
    "        print(count, \"is an Even number\")\n",
    "    else:\n",
    "        print(count, \"is an Odd number\")"
   ]
  }
 ],
 "metadata": {
  "kernelspec": {
   "display_name": "Python 3 (ipykernel)",
   "language": "python",
   "name": "python3"
  },
  "language_info": {
   "codemirror_mode": {
    "name": "ipython",
    "version": 3
   },
   "file_extension": ".py",
   "mimetype": "text/x-python",
   "name": "python",
   "nbconvert_exporter": "python",
   "pygments_lexer": "ipython3",
   "version": "3.10.12"
  }
 },
 "nbformat": 4,
 "nbformat_minor": 5
}
