{
 "cells": [
  {
   "cell_type": "code",
   "execution_count": null,
   "id": "24890f2e-b20f-41e7-9c6f-b5a2997ca86e",
   "metadata": {},
   "outputs": [],
   "source": [
    "print(\"DEVELOPED_BY:\")\n",
    "print(\"\\t     Muhammad Umair Habib\")\n",
    "print(\" \")\n",
    "print(\" \")\n",
    "print('Problem: Write a program to print first 10 natural number in reverse order Using while loop.')\n",
    "print(\" \")\n",
    "print(\" \")\n",
    "\n",
    "numbers = 10\n",
    "while numbers > 0:\n",
    "    print(numbers)\n",
    "    numbers = numbers - 1"
   ]
  }
 ],
 "metadata": {
  "kernelspec": {
   "display_name": "Python 3 (ipykernel)",
   "language": "python",
   "name": "python3"
  },
  "language_info": {
   "codemirror_mode": {
    "name": "ipython",
    "version": 3
   },
   "file_extension": ".py",
   "mimetype": "text/x-python",
   "name": "python",
   "nbconvert_exporter": "python",
   "pygments_lexer": "ipython3",
   "version": "3.10.12"
  }
 },
 "nbformat": 4,
 "nbformat_minor": 5
}
