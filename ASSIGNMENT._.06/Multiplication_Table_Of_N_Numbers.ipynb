{
 "cells": [
  {
   "cell_type": "code",
   "execution_count": null,
   "id": "a3924abb-8c72-41be-8cda-590ad65d85e8",
   "metadata": {},
   "outputs": [],
   "source": [
    "print(\"DEVELOPED_BY:\")\n",
    "print(\"\\t     Muhammad Umair Habib\")\n",
    "print(\" \")\n",
    "print(\" \")\n",
    "print('Problem: Write a program to Print Multiplication table of N number using while loop.')\n",
    "print(\" \")\n",
    "print(\" \")\n",
    "\n",
    "N = int(input('Enter Your Number: '))\n",
    "print(\"Table of \", N)\n",
    "n = 1\n",
    "while n <= 10:\n",
    "    table = N*n\n",
    "    print(N,\"*\", n, \"is\", table)\n",
    "    n = n+1"
   ]
  }
 ],
 "metadata": {
  "kernelspec": {
   "display_name": "Python 3 (ipykernel)",
   "language": "python",
   "name": "python3"
  },
  "language_info": {
   "codemirror_mode": {
    "name": "ipython",
    "version": 3
   },
   "file_extension": ".py",
   "mimetype": "text/x-python",
   "name": "python",
   "nbconvert_exporter": "python",
   "pygments_lexer": "ipython3",
   "version": "3.10.12"
  }
 },
 "nbformat": 4,
 "nbformat_minor": 5
}
