{
 "cells": [
  {
   "cell_type": "code",
   "execution_count": null,
   "id": "58bf30d9-2562-4505-9cca-22ee8b615431",
   "metadata": {},
   "outputs": [],
   "source": [
    "print(\"DEVELOPED_BY:\")\n",
    "print(\"\\t     Muhammad Umair Habib\")\n",
    "print(\" \")\n",
    "print(\" \")\n",
    "print('Problem: Counting from 1 to N: Write a program that uses a while loop to print numbers from 1 to N.')\n",
    "print(\" \")\n",
    "print(\" \")\n",
    "\n",
    "count = 1\n",
    "N = int(input('Enter a number: '))\n",
    "while count<=N:\n",
    "    print(count)\n",
    "    count = count + 1"
   ]
  }
 ],
 "metadata": {
  "kernelspec": {
   "display_name": "Python 3 (ipykernel)",
   "language": "python",
   "name": "python3"
  },
  "language_info": {
   "codemirror_mode": {
    "name": "ipython",
    "version": 3
   },
   "file_extension": ".py",
   "mimetype": "text/x-python",
   "name": "python",
   "nbconvert_exporter": "python",
   "pygments_lexer": "ipython3",
   "version": "3.10.12"
  }
 },
 "nbformat": 4,
 "nbformat_minor": 5
}
