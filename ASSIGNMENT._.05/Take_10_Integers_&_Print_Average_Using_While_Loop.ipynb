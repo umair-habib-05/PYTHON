{
 "cells": [
  {
   "cell_type": "code",
   "execution_count": null,
   "id": "9bd577f7-c109-4331-8a36-3466ecaa819b",
   "metadata": {},
   "outputs": [],
   "source": [
    "print(\"DEVELOPED_BY:\")\n",
    "print(\"\\t     Muhammad Umair Habib\")\n",
    "print(\" \")\n",
    "print(\" \")\n",
    "print('Problem: Take 10 integers numbers and print their average value using while loop.')\n",
    "print(\" \")\n",
    "print(\" \")\n",
    "\n",
    "int_list = []\n",
    "count = 1\n",
    "while count <=10:\n",
    "    user_input = int(input('Enter Your Ingeters: '))\n",
    "    int_list.append(user_input)\n",
    "    count = count + 1\n",
    "\n",
    "sum_of_integers = (sum(int_list))\n",
    "print('Sum of integers: ', sum_of_integers)\n",
    "average = sum_of_integers/10\n",
    "print(\"The average of 10 integers is: \", average)"
   ]
  }
 ],
 "metadata": {
  "kernelspec": {
   "display_name": "Python 3 (ipykernel)",
   "language": "python",
   "name": "python3"
  },
  "language_info": {
   "codemirror_mode": {
    "name": "ipython",
    "version": 3
   },
   "file_extension": ".py",
   "mimetype": "text/x-python",
   "name": "python",
   "nbconvert_exporter": "python",
   "pygments_lexer": "ipython3",
   "version": "3.10.12"
  }
 },
 "nbformat": 4,
 "nbformat_minor": 5
}
