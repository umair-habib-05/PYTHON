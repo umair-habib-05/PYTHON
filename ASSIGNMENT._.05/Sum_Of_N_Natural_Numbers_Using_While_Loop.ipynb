{
 "cells": [
  {
   "cell_type": "code",
   "execution_count": null,
   "id": "a1897232-bebf-4267-ab16-8705524ab351",
   "metadata": {},
   "outputs": [],
   "source": [
    "print(\"DEVELOPED_BY:\")\n",
    "print(\"\\t     Muhammad Umair Habib\")\n",
    "print(\" \")\n",
    "print(\" \")\n",
    "print('Problem: Create a program that calculates the sum of the first N natural numbers using a while loop.')\n",
    "print(\" \")\n",
    "print(\" \")\n",
    "\n",
    "N = int(input('Enter Your N natural numbers: '))\n",
    "sum_of_N = 0\n",
    "n = 1\n",
    "while n <= N:\n",
    "    sum_of_N = sum_of_N + n\n",
    "    n = n + 1\n",
    "\n",
    "print('Sum of first', N, 'Natural Numbers is: ', sum_of_N)"
   ]
  }
 ],
 "metadata": {
  "kernelspec": {
   "display_name": "Python 3 (ipykernel)",
   "language": "python",
   "name": "python3"
  },
  "language_info": {
   "codemirror_mode": {
    "name": "ipython",
    "version": 3
   },
   "file_extension": ".py",
   "mimetype": "text/x-python",
   "name": "python",
   "nbconvert_exporter": "python",
   "pygments_lexer": "ipython3",
   "version": "3.10.12"
  }
 },
 "nbformat": 4,
 "nbformat_minor": 5
}
