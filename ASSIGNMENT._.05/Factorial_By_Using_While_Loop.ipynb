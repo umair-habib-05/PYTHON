{
 "cells": [
  {
   "cell_type": "code",
   "execution_count": null,
   "id": "7335f45a-c0a0-4f2c-86bc-de2bd4a09207",
   "metadata": {},
   "outputs": [],
   "source": [
    "print(\"DEVELOPED_BY:\")\n",
    "print(\"\\t     Muhammad Umair Habib\")\n",
    "print(\" \")\n",
    "print(\" \")\n",
    "print('Problem: Write a program to calculate the factorial of a given number using a while loop.')\n",
    "print(\" \")\n",
    "print(\" \")\n",
    "\n",
    "user_input = int(input(\"Enter a number: \"))\n",
    "fact = 1\n",
    "\n",
    "if user_input < 0:\n",
    "    print(\"Factorial is not defined for negative numbers \")\n",
    "elif user_input == 0:\n",
    "    print(\"Factorial of 0 is 1\")\n",
    "else:\n",
    "    while user_input > 0:\n",
    "        fact = fact * user_input\n",
    "        user_input = user_input - 1\n",
    "        \n",
    "print(\"Factorial is: \", fact)"
   ]
  }
 ],
 "metadata": {
  "kernelspec": {
   "display_name": "Python 3 (ipykernel)",
   "language": "python",
   "name": "python3"
  },
  "language_info": {
   "codemirror_mode": {
    "name": "ipython",
    "version": 3
   },
   "file_extension": ".py",
   "mimetype": "text/x-python",
   "name": "python",
   "nbconvert_exporter": "python",
   "pygments_lexer": "ipython3",
   "version": "3.10.12"
  }
 },
 "nbformat": 4,
 "nbformat_minor": 5
}
