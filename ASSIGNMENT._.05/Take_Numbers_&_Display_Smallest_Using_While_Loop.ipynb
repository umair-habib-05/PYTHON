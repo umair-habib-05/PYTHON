{
 "cells": [
  {
   "cell_type": "code",
   "execution_count": null,
   "id": "df31993f-2f50-4939-a903-2411863e754e",
   "metadata": {},
   "outputs": [],
   "source": [
    "print(\"DEVELOPED_BY:\")\n",
    "print(\"\\t     Muhammad Umair Habib\")\n",
    "print(\" \")\n",
    "print(\" \")\n",
    "print('Problem: Take ten numbers and display smallest number using while loop. (without built-in function).')\n",
    "print(\" \")\n",
    "print(\" \")\n",
    "\n",
    "numbers = []\n",
    "count = 0\n",
    "while count<10:\n",
    "    number = float(input(\"Enter a number: \"))\n",
    "    numbers.append(number)\n",
    "    count = count+1\n",
    "\n",
    "print(\"Your Entered Numbers are: \", numbers)\n",
    "max_num = numbers[0]\n",
    "for i in numbers:\n",
    "    if i < max_num:\n",
    "        max_num = i\n",
    "\n",
    "print(\"Your Smallest Number is: \", max_num)"
   ]
  },
  {
   "cell_type": "code",
   "execution_count": null,
   "id": "a5653f0d-d36a-4869-9da0-393180ed5891",
   "metadata": {},
   "outputs": [],
   "source": []
  }
 ],
 "metadata": {
  "kernelspec": {
   "display_name": "Python 3 (ipykernel)",
   "language": "python",
   "name": "python3"
  },
  "language_info": {
   "codemirror_mode": {
    "name": "ipython",
    "version": 3
   },
   "file_extension": ".py",
   "mimetype": "text/x-python",
   "name": "python",
   "nbconvert_exporter": "python",
   "pygments_lexer": "ipython3",
   "version": "3.10.12"
  }
 },
 "nbformat": 4,
 "nbformat_minor": 5
}
