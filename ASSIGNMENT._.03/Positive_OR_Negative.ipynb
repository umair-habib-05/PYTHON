{
 "cells": [
  {
   "cell_type": "code",
   "execution_count": null,
   "id": "15b66c56-4639-46a4-a273-bc5a84cdd6fd",
   "metadata": {},
   "outputs": [],
   "source": [
    "print(\"DEVELOPED_BY:\")\n",
    "print(\"\\t     Muhammad Umair Habib\")\n",
    "print(\" \")\n",
    "print(\" \")\n",
    "print(\"Problem: Write a program to check whether a number is negative, positive.\")\n",
    "print(\" \")\n",
    "print(\" \")\n",
    "\n",
    "num = float(input(\"Enter a Number: \"))\n",
    "if num>0:\n",
    "    print(\"The Number Is Positive\")\n",
    "else:\n",
    "    print(\"The Number Is Negative\")"
   ]
  },
  {
   "cell_type": "code",
   "execution_count": null,
   "id": "ccc1d410-ecb8-4a7a-8e23-26966f22a6b9",
   "metadata": {},
   "outputs": [],
   "source": []
  }
 ],
 "metadata": {
  "kernelspec": {
   "display_name": "Python 3 (ipykernel)",
   "language": "python",
   "name": "python3"
  },
  "language_info": {
   "codemirror_mode": {
    "name": "ipython",
    "version": 3
   },
   "file_extension": ".py",
   "mimetype": "text/x-python",
   "name": "python",
   "nbconvert_exporter": "python",
   "pygments_lexer": "ipython3",
   "version": "3.10.12"
  }
 },
 "nbformat": 4,
 "nbformat_minor": 5
}
