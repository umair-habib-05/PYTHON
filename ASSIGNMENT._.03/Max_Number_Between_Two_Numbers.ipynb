{
 "cells": [
  {
   "cell_type": "code",
   "execution_count": null,
   "id": "873a0691-ab5a-49fd-9657-a62d901aecdb",
   "metadata": {},
   "outputs": [],
   "source": [
    "print(\"DEVELOPED_BY:\")\n",
    "print(\"\\t     Muhammad Umair Habib\")\n",
    "print(\" \")\n",
    "print(\" \")\n",
    "print(\"Problem: Write a program to find maximum between two numbers.\")\n",
    "print(\" \")\n",
    "print(\" \")\n",
    "\n",
    "x = float(input(\"Enter Your First Number: \"))\n",
    "y = float(input(\"Enter Your Second Number: \"))\n",
    "if x>y:\n",
    "    print(\"First Number\", x, \" is greater\")\n",
    "else:\n",
    "    print(\"Second Number\", y, \" is greater\")"
   ]
  },
  {
   "cell_type": "code",
   "execution_count": null,
   "id": "b290e987-5fa8-4b68-86af-307b41f5a1b9",
   "metadata": {},
   "outputs": [],
   "source": []
  }
 ],
 "metadata": {
  "kernelspec": {
   "display_name": "Python 3 (ipykernel)",
   "language": "python",
   "name": "python3"
  },
  "language_info": {
   "codemirror_mode": {
    "name": "ipython",
    "version": 3
   },
   "file_extension": ".py",
   "mimetype": "text/x-python",
   "name": "python",
   "nbconvert_exporter": "python",
   "pygments_lexer": "ipython3",
   "version": "3.10.12"
  }
 },
 "nbformat": 4,
 "nbformat_minor": 5
}
