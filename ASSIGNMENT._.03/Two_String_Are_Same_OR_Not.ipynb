{
 "cells": [
  {
   "cell_type": "code",
   "execution_count": null,
   "id": "be93a71d-5d60-4aad-8712-f60da87b5839",
   "metadata": {},
   "outputs": [],
   "source": [
    "print(\"DEVELOPED_BY:\")\n",
    "print(\"\\t     Muhammad Umair Habib\")\n",
    "print(\" \")\n",
    "print(\" \")\n",
    "print('Problem: Make a two variable and assign “Pakistan” and “pakistan”.')\n",
    "print('         Also apply if condition to check Variable are same or not')\n",
    "print(\" \")\n",
    "print(\" \")\n",
    "str_1 = \"PAKISTAN\"\n",
    "str_2 = \"pakistan\"\n",
    "print(\"String___1 is: \", str_1)\n",
    "print(\"String___2 is: \", str_2)\n",
    "if str_1 == str_2:\n",
    "    print(\"They are same\")\n",
    "else:\n",
    "    print(\"They are not same\")"
   ]
  }
 ],
 "metadata": {
  "kernelspec": {
   "display_name": "Python 3 (ipykernel)",
   "language": "python",
   "name": "python3"
  },
  "language_info": {
   "codemirror_mode": {
    "name": "ipython",
    "version": 3
   },
   "file_extension": ".py",
   "mimetype": "text/x-python",
   "name": "python",
   "nbconvert_exporter": "python",
   "pygments_lexer": "ipython3",
   "version": "3.10.12"
  }
 },
 "nbformat": 4,
 "nbformat_minor": 5
}
