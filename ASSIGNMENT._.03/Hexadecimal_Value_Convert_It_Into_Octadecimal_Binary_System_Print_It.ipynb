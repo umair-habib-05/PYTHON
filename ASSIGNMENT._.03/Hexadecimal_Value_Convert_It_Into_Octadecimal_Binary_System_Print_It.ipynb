{
 "cells": [
  {
   "cell_type": "code",
   "execution_count": null,
   "id": "c2c26139-3e1f-4d15-b334-5a78159cc72e",
   "metadata": {},
   "outputs": [],
   "source": [
    "print(\"DEVELOPED_BY:\")\n",
    "print(\"\\t     Muhammad Umair Habib\")\n",
    "print(\" \")\n",
    "print(\" \")\n",
    "print('Problem: Make a variable and assign a hexadecimal value. After that convert it into')\n",
    "print('         octadecimal, and binary number system and print.')\n",
    "print(\" \")\n",
    "print(\" \")\n",
    "\n",
    "hex_num = '1A3F'\n",
    "dec_num = int(hex_num, 16)\n",
    "binary_num = bin(dec_num)\n",
    "octal_num = oct(dec_num)\n",
    "print(\" \")\n",
    "print(\"Hexadecimal Number is: \", hex_num)\n",
    "print(\"Hexadecimal Number\", hex_num, \"In Decimal Number System is: \", dec_num)\n",
    "print(\"Hexadecimal Number\", hex_num, \"In Binary Number System is: \", binary_num)\n",
    "print(\"Hexadecimal Number\", hex_num, \"In Octal Number System is: \", octal_num)"
   ]
  }
 ],
 "metadata": {
  "kernelspec": {
   "display_name": "Python 3 (ipykernel)",
   "language": "python",
   "name": "python3"
  },
  "language_info": {
   "codemirror_mode": {
    "name": "ipython",
    "version": 3
   },
   "file_extension": ".py",
   "mimetype": "text/x-python",
   "name": "python",
   "nbconvert_exporter": "python",
   "pygments_lexer": "ipython3",
   "version": "3.10.12"
  }
 },
 "nbformat": 4,
 "nbformat_minor": 5
}
