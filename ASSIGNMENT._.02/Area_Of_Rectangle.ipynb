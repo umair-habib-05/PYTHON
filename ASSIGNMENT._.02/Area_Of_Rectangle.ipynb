{
 "cells": [
  {
   "cell_type": "code",
   "execution_count": null,
   "id": "1b2fa7b3-71e7-43d9-8ee1-08cc87358503",
   "metadata": {},
   "outputs": [],
   "source": [
    "print(\"DEVELOPED_BY:\")\n",
    "print(\"\\t     Muhammad Umair Habib\")\n",
    "print(\" \")\n",
    "print(\" \")\n",
    "print('Problem: Calculates the area of a rectangle. You can take the length and width of the rectangle and then')\n",
    "print('         calculate and print the area.')\n",
    "print(\" \")\n",
    "print(\" \")\n",
    "\n",
    "print(\" \")\n",
    "\n",
    "l = float(input(\"Enter Your Length: \"))\n",
    "w = float(input(\"Enter Your Width: \"))\n",
    "area = float(l*w)\n",
    "print(\"The Area of a Rectangle whose lenth is\", l ,\" and width is\", w, \", Area will be: \", area)"
   ]
  }
 ],
 "metadata": {
  "kernelspec": {
   "display_name": "Python 3 (ipykernel)",
   "language": "python",
   "name": "python3"
  },
  "language_info": {
   "codemirror_mode": {
    "name": "ipython",
    "version": 3
   },
   "file_extension": ".py",
   "mimetype": "text/x-python",
   "name": "python",
   "nbconvert_exporter": "python",
   "pygments_lexer": "ipython3",
   "version": "3.10.12"
  }
 },
 "nbformat": 4,
 "nbformat_minor": 5
}
