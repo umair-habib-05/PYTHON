{
 "cells": [
  {
   "cell_type": "code",
   "execution_count": null,
   "id": "07623b00-1435-4eb3-a0b5-0a213b963728",
   "metadata": {},
   "outputs": [],
   "source": [
    "print(\"DEVELOPED_BY:\")\n",
    "print(\"\\t     Muhammad Umair Habib\")\n",
    "print(\" \")\n",
    "print(\" \")\n",
    "print('Problem: Write a Python program that takes two numbers as input and calculates their sum. Print the result.')\n",
    "print(\" \")\n",
    "print(\" \")\n",
    "\n",
    "def cal_sum():\n",
    "    x = float(input(\"Enter Your First Number: \"))\n",
    "    y = float(input(\"Enter Your Second Number: \"))\n",
    "    sum = x+y\n",
    "    print(\"The sum of two numbers is: \", sum)\n",
    "\n",
    "cal_sum()"
   ]
  },
  {
   "cell_type": "code",
   "execution_count": null,
   "id": "618a14d7-b964-40e5-9916-a35b39d01acc",
   "metadata": {},
   "outputs": [],
   "source": []
  }
 ],
 "metadata": {
  "kernelspec": {
   "display_name": "Python 3 (ipykernel)",
   "language": "python",
   "name": "python3"
  },
  "language_info": {
   "codemirror_mode": {
    "name": "ipython",
    "version": 3
   },
   "file_extension": ".py",
   "mimetype": "text/x-python",
   "name": "python",
   "nbconvert_exporter": "python",
   "pygments_lexer": "ipython3",
   "version": "3.10.12"
  }
 },
 "nbformat": 4,
 "nbformat_minor": 5
}
