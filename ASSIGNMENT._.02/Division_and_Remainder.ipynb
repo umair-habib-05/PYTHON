{
 "cells": [
  {
   "cell_type": "code",
   "execution_count": null,
   "id": "4698b57f-edf1-45df-8dae-e7d10cc3b6b0",
   "metadata": {},
   "outputs": [],
   "source": [
    "print(\"DEVELOPED_BY:\")\n",
    "print(\"\\t     Muhammad Umair Habib\")\n",
    "print(\" \")\n",
    "print(\" \")\n",
    "print('Problem: Takes two integers and calculates and prints the result of integer division and the remainder when')\n",
    "print(          'dividing the first number by the second.')\n",
    "print(\" \")\n",
    "print(\" \")\n",
    "\n",
    "int_1 = int(input(\"Enter your first integer: \"))\n",
    "int_2 = int(input(\"Enter your second integer: \"))\n",
    "\n",
    "int_div_1_by_2 = int(int_1/int_2)\n",
    "print(\"When we divide the first_integer by second_interger, the answer is: \", int_div_1_by_2)\n",
    "\n",
    "int_div_2_by_1 = int(int_2/int_1)\n",
    "print(\"When we divide the second_integer by first_interger, the answer is: \", int_div_2_by_1)\n",
    "\n",
    "int_rem_1_by_2 = int(int_1%int_2)\n",
    "print(\"When we divide the first_integer by second_interger, the remainder is: \", int_rem_1_by_2)\n",
    "\n",
    "int_rem_2_by_1 =  int(int_2%int_1)\n",
    "print(\"When we divide the second_integer by first_interger, the remainder is: \", int_rem_2_by_1)"
   ]
  }
 ],
 "metadata": {
  "kernelspec": {
   "display_name": "Python 3 (ipykernel)",
   "language": "python",
   "name": "python3"
  },
  "language_info": {
   "codemirror_mode": {
    "name": "ipython",
    "version": 3
   },
   "file_extension": ".py",
   "mimetype": "text/x-python",
   "name": "python",
   "nbconvert_exporter": "python",
   "pygments_lexer": "ipython3",
   "version": "3.10.12"
  }
 },
 "nbformat": 4,
 "nbformat_minor": 5
}
