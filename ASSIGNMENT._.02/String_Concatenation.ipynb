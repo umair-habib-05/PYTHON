{
 "cells": [
  {
   "cell_type": "code",
   "execution_count": null,
   "id": "b7e5943c-4fb4-41e3-a3d4-62592f89a851",
   "metadata": {},
   "outputs": [],
   "source": [
    "print(\"DEVELOPED_BY:\")\n",
    "print(\"\\t     Muhammad Umair Habib\")\n",
    "print(\" \")\n",
    "print(\" \")\n",
    "print('Problem: Create two strings and concatenate them to form a single string. Print the concatenated string.')\n",
    "print(\" \")\n",
    "print(\" \")\n",
    "\n",
    "str_1 = \"abcd\"\n",
    "str_2 = \"xyz\"\n",
    "con_str = str_1 + str_2\n",
    "print(\"First String is: \", str_1)\n",
    "print(\"Second String is: \", str_2)\n",
    "print(\"The Concatenated String is: \", con_str)"
   ]
  }
 ],
 "metadata": {
  "kernelspec": {
   "display_name": "Python 3 (ipykernel)",
   "language": "python",
   "name": "python3"
  },
  "language_info": {
   "codemirror_mode": {
    "name": "ipython",
    "version": 3
   },
   "file_extension": ".py",
   "mimetype": "text/x-python",
   "name": "python",
   "nbconvert_exporter": "python",
   "pygments_lexer": "ipython3",
   "version": "3.10.12"
  }
 },
 "nbformat": 4,
 "nbformat_minor": 5
}
