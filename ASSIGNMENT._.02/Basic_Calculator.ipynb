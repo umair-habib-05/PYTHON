{
 "cells": [
  {
   "cell_type": "code",
   "execution_count": null,
   "id": "a22d2e6b-365f-4930-8eae-2b63ea03d9fd",
   "metadata": {},
   "outputs": [],
   "source": [
    "print(\"DEVELOPED_BY:\")\n",
    "print(\"\\t     Muhammad Umair Habib\")\n",
    "print(\" \")\n",
    "print(\" \")\n",
    "print('Problem: Given two numbers, calculate and print their sum, difference, product, and remainder.')\n",
    "print(\" \")\n",
    "print(\" \")\n",
    "\n",
    "def cal_sum():\n",
    "    x = float(input(\"Enter Your First Number: \"))\n",
    "    y = float(input(\"Enter Your Second Number: \"))\n",
    "    sum = float(x+y)\n",
    "    print(\"Sum of Two Numbers are: \", sum)\n",
    "\n",
    "def cal_sub():\n",
    "    x = float(input(\"Enter Your First Number: \"))\n",
    "    y = float(input(\"Enter Your Second Number: \"))\n",
    "    sub = float(x-y)\n",
    "    print(\"Difference of Two Numbers are: \", sub)\n",
    "\n",
    "def cal_pro():\n",
    "    x = float(input(\"Enter Your First Number: \"))\n",
    "    y = float(input(\"Enter Your Second Number: \"))\n",
    "    pro = float(x*y)\n",
    "    print(\"Product of Two Numbers are: \", pro)\n",
    "\n",
    "def cal_rem():\n",
    "    x = float(input(\"Enter Your First Number: \"))\n",
    "    y = float(input(\"Enter Your Second Number: \"))\n",
    "    rem_1 = float(x%y)\n",
    "    print(\"When First Number is divided by Second Number the remainder is: \", rem_1)\n",
    "    rem_2 = float(y%x)\n",
    "    print(\"When Second Number is divided by First Number the remainder is: \", rem_2)"
   ]
  },
  {
   "cell_type": "code",
   "execution_count": null,
   "id": "0ef05706-e85a-4cfa-8130-0e5947286983",
   "metadata": {},
   "outputs": [],
   "source": [
    "cal_sum()\n",
    "print(\" \")\n",
    "cal_sub()\n",
    "print(\" \")\n",
    "cal_pro()\n",
    "print(\" \")\n",
    "cal_rem()"
   ]
  },
  {
   "cell_type": "code",
   "execution_count": null,
   "id": "8acb5cac-64c4-456b-8025-f6c720bb9aba",
   "metadata": {},
   "outputs": [],
   "source": []
  }
 ],
 "metadata": {
  "kernelspec": {
   "display_name": "Python 3 (ipykernel)",
   "language": "python",
   "name": "python3"
  },
  "language_info": {
   "codemirror_mode": {
    "name": "ipython",
    "version": 3
   },
   "file_extension": ".py",
   "mimetype": "text/x-python",
   "name": "python",
   "nbconvert_exporter": "python",
   "pygments_lexer": "ipython3",
   "version": "3.10.12"
  }
 },
 "nbformat": 4,
 "nbformat_minor": 5
}
