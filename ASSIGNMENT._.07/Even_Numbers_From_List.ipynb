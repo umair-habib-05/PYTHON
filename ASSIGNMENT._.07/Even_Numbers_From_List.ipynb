{
 "cells": [
  {
   "cell_type": "code",
   "execution_count": null,
   "id": "4e0fe1a1-e194-485f-b1e5-c98c819f8dd3",
   "metadata": {},
   "outputs": [],
   "source": [
    "print(\"DEVELOPED_BY:\")\n",
    "print(\"\\t     Muhammad Umair Habib\")\n",
    "print(\" \")\n",
    "print(\" \")\n",
    "print('Problem: Write a program to find even numbers from a list (without builtin function),')\n",
    "print(\" \")\n",
    "print(\" \")\n",
    "\n",
    "print(\"Enter numbers in a list OR write '0' when it is completed\")\n",
    "\n",
    "l = []\n",
    "\n",
    "while True: \n",
    "    n = int(input('Enter numbers in the list \\n'))\n",
    "    \n",
    "    if n == 0:\n",
    "        break\n",
    "    else:\n",
    "        l.append(n)\n",
    "\n",
    "for i in l:\n",
    "    if i%2 == 0:\n",
    "        print(i)"
   ]
  }
 ],
 "metadata": {
  "kernelspec": {
   "display_name": "Python 3 (ipykernel)",
   "language": "python",
   "name": "python3"
  },
  "language_info": {
   "codemirror_mode": {
    "name": "ipython",
    "version": 3
   },
   "file_extension": ".py",
   "mimetype": "text/x-python",
   "name": "python",
   "nbconvert_exporter": "python",
   "pygments_lexer": "ipython3",
   "version": "3.10.12"
  }
 },
 "nbformat": 4,
 "nbformat_minor": 5
}
