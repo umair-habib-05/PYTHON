{
 "cells": [
  {
   "cell_type": "code",
   "execution_count": 3,
   "id": "3f86b42d-f8f6-44b3-84f9-76e42b170e31",
   "metadata": {},
   "outputs": [
    {
     "name": "stdout",
     "output_type": "stream",
     "text": [
      "DEVELOPED_BY:\n",
      "\t     Muhammad Umair Habib\n",
      " \n",
      " \n",
      "Problem: Write a program to print this shape using for loop:\n",
      "*****\n",
      "****\n",
      "***\n",
      "**\n",
      "*\n",
      " \n",
      " \n",
      "Code output \n",
      "*****\n",
      "****\n",
      "***\n",
      "**\n",
      "*\n"
     ]
    }
   ],
   "source": [
    "print(\"DEVELOPED_BY:\")\n",
    "print(\"\\t     Muhammad Umair Habib\")\n",
    "print(\" \")\n",
    "print(\" \")\n",
    "print('Problem: Write a program to print this shape using for loop:')\n",
    "print('*****')\n",
    "print('****')\n",
    "print('***')\n",
    "print('**')\n",
    "print('*')\n",
    "print(\" \")\n",
    "print(\" \")\n",
    "\n",
    "print('Code output ')\n",
    "n = 5\n",
    "while n > 0:\n",
    "    print('*'*n )\n",
    "    n = n - 1"
   ]
  },
  {
   "cell_type": "code",
   "execution_count": null,
   "id": "86ec85aa-00df-418c-94af-442437a6bcb0",
   "metadata": {},
   "outputs": [],
   "source": []
  }
 ],
 "metadata": {
  "kernelspec": {
   "display_name": "Python 3 (ipykernel)",
   "language": "python",
   "name": "python3"
  },
  "language_info": {
   "codemirror_mode": {
    "name": "ipython",
    "version": 3
   },
   "file_extension": ".py",
   "mimetype": "text/x-python",
   "name": "python",
   "nbconvert_exporter": "python",
   "pygments_lexer": "ipython3",
   "version": "3.10.12"
  }
 },
 "nbformat": 4,
 "nbformat_minor": 5
}
