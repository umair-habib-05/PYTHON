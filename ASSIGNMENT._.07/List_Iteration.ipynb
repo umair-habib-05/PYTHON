{
 "cells": [
  {
   "cell_type": "code",
   "execution_count": null,
   "id": "01d3b6ce-4960-45fc-9e49-4114bbf6b02a",
   "metadata": {},
   "outputs": [],
   "source": [
    "print(\"DEVELOPED_BY:\")\n",
    "print(\"\\t     Muhammad Umair Habib\")\n",
    "print(\" \")\n",
    "print(\" \")\n",
    "print('Problem: List Iteration: Iterate through a list of names and print each name using a for loop.')\n",
    "print(\" \")\n",
    "print(\" \")\n",
    "\n",
    "list = ['umair', 'ali', 'saad']  #if list is given\n",
    "for i in list:\n",
    "    print(str(i))"
   ]
  },
  {
   "cell_type": "code",
   "execution_count": null,
   "id": "f3b0b4e1-1acf-4506-915d-9b45141ddba5",
   "metadata": {},
   "outputs": [],
   "source": [
    "#From user input\n",
    "print(\"Enter names in a list OR write 'done' when it is completed\")\n",
    "\n",
    "l = []\n",
    "\n",
    "while True: \n",
    "    n = input('Entering names in the list \\n')\n",
    "    \n",
    "    if n == 'done':\n",
    "        break\n",
    "    else:\n",
    "        l.append(n)\n",
    "\n",
    "print(' ')\n",
    "print(' ')\n",
    "print(\"Itertion through a list using loop: \")   \n",
    "for i in l:\n",
    "    print(i)"
   ]
  }
 ],
 "metadata": {
  "kernelspec": {
   "display_name": "Python 3 (ipykernel)",
   "language": "python",
   "name": "python3"
  },
  "language_info": {
   "codemirror_mode": {
    "name": "ipython",
    "version": 3
   },
   "file_extension": ".py",
   "mimetype": "text/x-python",
   "name": "python",
   "nbconvert_exporter": "python",
   "pygments_lexer": "ipython3",
   "version": "3.10.12"
  }
 },
 "nbformat": 4,
 "nbformat_minor": 5
}
