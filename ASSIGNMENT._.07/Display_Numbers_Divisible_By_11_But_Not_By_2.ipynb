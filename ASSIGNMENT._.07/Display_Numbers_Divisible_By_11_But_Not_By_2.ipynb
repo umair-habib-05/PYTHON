{
 "cells": [
  {
   "cell_type": "code",
   "execution_count": null,
   "id": "6ad80329-372e-44c3-9e90-9c2560076f43",
   "metadata": {},
   "outputs": [],
   "source": [
    "print(\"DEVELOPED_BY:\")\n",
    "print(\"\\t     Muhammad Umair Habib\")\n",
    "print(\" \")\n",
    "print(\" \")\n",
    "print('Problem: Write a program to display all the numbers which is divisible by 11 but not by 2 in b/w 100 and 500.')\n",
    "print(\" \")\n",
    "print(\" \") \n",
    "\n",
    "for n in range(100, 501):\n",
    "    if n % 11 == 0 and n % 2 != 0:\n",
    "        print(n)"
   ]
  }
 ],
 "metadata": {
  "kernelspec": {
   "display_name": "Python 3 (ipykernel)",
   "language": "python",
   "name": "python3"
  },
  "language_info": {
   "codemirror_mode": {
    "name": "ipython",
    "version": 3
   },
   "file_extension": ".py",
   "mimetype": "text/x-python",
   "name": "python",
   "nbconvert_exporter": "python",
   "pygments_lexer": "ipython3",
   "version": "3.10.12"
  }
 },
 "nbformat": 4,
 "nbformat_minor": 5
}
