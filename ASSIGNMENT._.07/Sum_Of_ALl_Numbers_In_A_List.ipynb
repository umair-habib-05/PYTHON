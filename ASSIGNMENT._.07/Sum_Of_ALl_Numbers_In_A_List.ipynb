{
 "cells": [
  {
   "cell_type": "code",
   "execution_count": null,
   "id": "a796be85-c384-4c18-b5a5-273e94605ede",
   "metadata": {},
   "outputs": [],
   "source": [
    "print(\"DEVELOPED_BY:\")\n",
    "print(\"\\t     Muhammad Umair Habib\")\n",
    "print(\" \")\n",
    "print(\" \")\n",
    "print('Problem: Write a for loop to calculate the sum of all the elements in a list of numbers.')\n",
    "print(\" \")\n",
    "print(\" \")\n",
    "\n",
    "print(\"Enter numbers in the List OR write '0' when it is completed\")\n",
    "\n",
    "l = []\n",
    "\n",
    "while True:\n",
    "    n = int(input('Enter numbers in the list \\n'))\n",
    "\n",
    "    if n == 0:\n",
    "        break\n",
    "    else:\n",
    "        l.append(n)\n",
    "\n",
    "for i in l:\n",
    "    a = sum(l) # by using built-in function\n",
    "\n",
    "print(a)"
   ]
  },
  {
   "cell_type": "code",
   "execution_count": null,
   "id": "5f8de759-e08d-4673-9b01-057246044dc0",
   "metadata": {},
   "outputs": [],
   "source": [
    "#without using the built-in functions\n",
    "\n",
    "print(\"Enter numbers in the List OR write '0' when it is completed\")\n",
    "\n",
    "l = []\n",
    "\n",
    "while True:\n",
    "    n = int(input('Enter numbers in the list \\n'))\n",
    "\n",
    "    if n == 0:\n",
    "        break\n",
    "    else:\n",
    "        l.append(n)\n",
    "\n",
    "sum = 0\n",
    "for i in l:\n",
    "    sum = sum + i \n",
    "\n",
    "print(sum)"
   ]
  },
  {
   "cell_type": "code",
   "execution_count": null,
   "id": "48fa85c3-89b4-4a80-ab9b-ee4270b65816",
   "metadata": {},
   "outputs": [],
   "source": []
  }
 ],
 "metadata": {
  "kernelspec": {
   "display_name": "Python 3 (ipykernel)",
   "language": "python",
   "name": "python3"
  },
  "language_info": {
   "codemirror_mode": {
    "name": "ipython",
    "version": 3
   },
   "file_extension": ".py",
   "mimetype": "text/x-python",
   "name": "python",
   "nbconvert_exporter": "python",
   "pygments_lexer": "ipython3",
   "version": "3.10.12"
  }
 },
 "nbformat": 4,
 "nbformat_minor": 5
}
